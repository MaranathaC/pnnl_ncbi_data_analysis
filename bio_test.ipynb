{
 "cells": [
  {
   "cell_type": "code",
   "execution_count": 3,
   "metadata": {},
   "outputs": [],
   "source": [
    "from Bio import SeqIO"
   ]
  },
  {
   "cell_type": "code",
   "execution_count": 4,
   "metadata": {},
   "outputs": [],
   "source": [
    "import os\n",
    "\n",
    "def read_files_in_directory(directory_path):\n",
    "    directory_path = os.path.join(\"RefSeq_data\", directory_path, \"ncbi_dataset\", \"data\")\n",
    "    records = []\n",
    "    files = os.listdir(directory_path)\n",
    "    for file in files:\n",
    "        item_path = os.path.join(directory_path, file)\n",
    "        if not os.path.isdir(item_path):\n",
    "            continue\n",
    "        for fasta_file in os.listdir(item_path):\n",
    "            fasta_file = os.path.join(item_path, fasta_file)\n",
    "            for seq_record in SeqIO.parse(fasta_file, \"fasta\"):\n",
    "                records.append(seq_record)\n",
    "    return records\n",
    "        \n",
    "pseudomonas_record = read_files_in_directory(\"pseudomonas\")"
   ]
  },
  {
   "cell_type": "code",
   "execution_count": 5,
   "metadata": {},
   "outputs": [
    {
     "name": "stdout",
     "output_type": "stream",
     "text": [
      "AA count:  76292639\n"
     ]
    }
   ],
   "source": [
    "AA_count = 0\n",
    "for pr in pseudomonas_record:\n",
    "    AA_count += pr.seq.count(\"AA\")\n",
    "print(\"AA count: \", AA_count)"
   ]
  },
  {
   "cell_type": "code",
   "execution_count": 6,
   "metadata": {},
   "outputs": [
    {
     "name": "stdout",
     "output_type": "stream",
     "text": [
      "AA overlap count:  92801128\n"
     ]
    }
   ],
   "source": [
    "AA_overlap_count = 0\n",
    "for pr in pseudomonas_record:\n",
    "    AA_overlap_count += pr.seq.count_overlap(\"AA\")\n",
    "print(\"AA overlap count: \", AA_overlap_count)"
   ]
  },
  {
   "cell_type": "code",
   "execution_count": 11,
   "metadata": {},
   "outputs": [
    {
     "name": "stdout",
     "output_type": "stream",
     "text": [
      "GC count:  0.597706536535113\n"
     ]
    }
   ],
   "source": [
    "from Bio.SeqUtils import gc_fraction\n",
    "GC_count = 0\n",
    "for pr in pseudomonas_record:\n",
    "    GC_count += gc_fraction(pr.seq)\n",
    "GC_count /= len(pseudomonas_record)\n",
    "print(\"GC count: \", GC_count)"
   ]
  }
 ],
 "metadata": {
  "kernelspec": {
   "display_name": "Python 3",
   "language": "python",
   "name": "python3"
  },
  "language_info": {
   "codemirror_mode": {
    "name": "ipython",
    "version": 3
   },
   "file_extension": ".py",
   "mimetype": "text/x-python",
   "name": "python",
   "nbconvert_exporter": "python",
   "pygments_lexer": "ipython3",
   "version": "3.9.13"
  }
 },
 "nbformat": 4,
 "nbformat_minor": 2
}
